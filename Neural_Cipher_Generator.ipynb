{
  "nbformat": 4,
  "nbformat_minor": 0,
  "metadata": {
    "colab": {
      "provenance": [],
      "authorship_tag": "ABX9TyMKDhFgdtwoifoigHEmvaov",
      "include_colab_link": true
    },
    "kernelspec": {
      "name": "python3",
      "display_name": "Python 3"
    },
    "language_info": {
      "name": "python"
    }
  },
  "cells": [
    {
      "cell_type": "markdown",
      "metadata": {
        "id": "view-in-github",
        "colab_type": "text"
      },
      "source": [
        "<a href=\"https://colab.research.google.com/github/VishalSharma99/Neural-Cipher-Generator/blob/main/Neural_Cipher_Generator.ipynb\" target=\"_parent\"><img src=\"https://colab.research.google.com/assets/colab-badge.svg\" alt=\"Open In Colab\"/></a>"
      ]
    },
    {
      "cell_type": "code",
      "execution_count": 5,
      "metadata": {
        "colab": {
          "base_uri": "https://localhost:8080/"
        },
        "id": "-JIX7dbi8vzn",
        "outputId": "c144b474-fb1b-4dcb-9dd2-2c7e1e23cb3f"
      },
      "outputs": [
        {
          "output_type": "stream",
          "name": "stdout",
          "text": [
            "Requirement already satisfied: tensorflow in /usr/local/lib/python3.12/dist-packages (2.19.0)\n",
            "Requirement already satisfied: numpy in /usr/local/lib/python3.12/dist-packages (2.0.2)\n",
            "Requirement already satisfied: matplotlib in /usr/local/lib/python3.12/dist-packages (3.10.0)\n",
            "Requirement already satisfied: absl-py>=1.0.0 in /usr/local/lib/python3.12/dist-packages (from tensorflow) (1.4.0)\n",
            "Requirement already satisfied: astunparse>=1.6.0 in /usr/local/lib/python3.12/dist-packages (from tensorflow) (1.6.3)\n",
            "Requirement already satisfied: flatbuffers>=24.3.25 in /usr/local/lib/python3.12/dist-packages (from tensorflow) (25.9.23)\n",
            "Requirement already satisfied: gast!=0.5.0,!=0.5.1,!=0.5.2,>=0.2.1 in /usr/local/lib/python3.12/dist-packages (from tensorflow) (0.6.0)\n",
            "Requirement already satisfied: google-pasta>=0.1.1 in /usr/local/lib/python3.12/dist-packages (from tensorflow) (0.2.0)\n",
            "Requirement already satisfied: libclang>=13.0.0 in /usr/local/lib/python3.12/dist-packages (from tensorflow) (18.1.1)\n",
            "Requirement already satisfied: opt-einsum>=2.3.2 in /usr/local/lib/python3.12/dist-packages (from tensorflow) (3.4.0)\n",
            "Requirement already satisfied: packaging in /usr/local/lib/python3.12/dist-packages (from tensorflow) (25.0)\n",
            "Requirement already satisfied: protobuf!=4.21.0,!=4.21.1,!=4.21.2,!=4.21.3,!=4.21.4,!=4.21.5,<6.0.0dev,>=3.20.3 in /usr/local/lib/python3.12/dist-packages (from tensorflow) (5.29.5)\n",
            "Requirement already satisfied: requests<3,>=2.21.0 in /usr/local/lib/python3.12/dist-packages (from tensorflow) (2.32.4)\n",
            "Requirement already satisfied: setuptools in /usr/local/lib/python3.12/dist-packages (from tensorflow) (75.2.0)\n",
            "Requirement already satisfied: six>=1.12.0 in /usr/local/lib/python3.12/dist-packages (from tensorflow) (1.17.0)\n",
            "Requirement already satisfied: termcolor>=1.1.0 in /usr/local/lib/python3.12/dist-packages (from tensorflow) (3.1.0)\n",
            "Requirement already satisfied: typing-extensions>=3.6.6 in /usr/local/lib/python3.12/dist-packages (from tensorflow) (4.15.0)\n",
            "Requirement already satisfied: wrapt>=1.11.0 in /usr/local/lib/python3.12/dist-packages (from tensorflow) (1.17.3)\n",
            "Requirement already satisfied: grpcio<2.0,>=1.24.3 in /usr/local/lib/python3.12/dist-packages (from tensorflow) (1.75.1)\n",
            "Requirement already satisfied: tensorboard~=2.19.0 in /usr/local/lib/python3.12/dist-packages (from tensorflow) (2.19.0)\n",
            "Requirement already satisfied: keras>=3.5.0 in /usr/local/lib/python3.12/dist-packages (from tensorflow) (3.10.0)\n",
            "Requirement already satisfied: h5py>=3.11.0 in /usr/local/lib/python3.12/dist-packages (from tensorflow) (3.15.0)\n",
            "Requirement already satisfied: ml-dtypes<1.0.0,>=0.5.1 in /usr/local/lib/python3.12/dist-packages (from tensorflow) (0.5.3)\n",
            "Requirement already satisfied: contourpy>=1.0.1 in /usr/local/lib/python3.12/dist-packages (from matplotlib) (1.3.3)\n",
            "Requirement already satisfied: cycler>=0.10 in /usr/local/lib/python3.12/dist-packages (from matplotlib) (0.12.1)\n",
            "Requirement already satisfied: fonttools>=4.22.0 in /usr/local/lib/python3.12/dist-packages (from matplotlib) (4.60.1)\n",
            "Requirement already satisfied: kiwisolver>=1.3.1 in /usr/local/lib/python3.12/dist-packages (from matplotlib) (1.4.9)\n",
            "Requirement already satisfied: pillow>=8 in /usr/local/lib/python3.12/dist-packages (from matplotlib) (11.3.0)\n",
            "Requirement already satisfied: pyparsing>=2.3.1 in /usr/local/lib/python3.12/dist-packages (from matplotlib) (3.2.5)\n",
            "Requirement already satisfied: python-dateutil>=2.7 in /usr/local/lib/python3.12/dist-packages (from matplotlib) (2.9.0.post0)\n",
            "Requirement already satisfied: wheel<1.0,>=0.23.0 in /usr/local/lib/python3.12/dist-packages (from astunparse>=1.6.0->tensorflow) (0.45.1)\n",
            "Requirement already satisfied: rich in /usr/local/lib/python3.12/dist-packages (from keras>=3.5.0->tensorflow) (13.9.4)\n",
            "Requirement already satisfied: namex in /usr/local/lib/python3.12/dist-packages (from keras>=3.5.0->tensorflow) (0.1.0)\n",
            "Requirement already satisfied: optree in /usr/local/lib/python3.12/dist-packages (from keras>=3.5.0->tensorflow) (0.17.0)\n",
            "Requirement already satisfied: charset_normalizer<4,>=2 in /usr/local/lib/python3.12/dist-packages (from requests<3,>=2.21.0->tensorflow) (3.4.4)\n",
            "Requirement already satisfied: idna<4,>=2.5 in /usr/local/lib/python3.12/dist-packages (from requests<3,>=2.21.0->tensorflow) (3.11)\n",
            "Requirement already satisfied: urllib3<3,>=1.21.1 in /usr/local/lib/python3.12/dist-packages (from requests<3,>=2.21.0->tensorflow) (2.5.0)\n",
            "Requirement already satisfied: certifi>=2017.4.17 in /usr/local/lib/python3.12/dist-packages (from requests<3,>=2.21.0->tensorflow) (2025.10.5)\n",
            "Requirement already satisfied: markdown>=2.6.8 in /usr/local/lib/python3.12/dist-packages (from tensorboard~=2.19.0->tensorflow) (3.9)\n",
            "Requirement already satisfied: tensorboard-data-server<0.8.0,>=0.7.0 in /usr/local/lib/python3.12/dist-packages (from tensorboard~=2.19.0->tensorflow) (0.7.2)\n",
            "Requirement already satisfied: werkzeug>=1.0.1 in /usr/local/lib/python3.12/dist-packages (from tensorboard~=2.19.0->tensorflow) (3.1.3)\n",
            "Requirement already satisfied: MarkupSafe>=2.1.1 in /usr/local/lib/python3.12/dist-packages (from werkzeug>=1.0.1->tensorboard~=2.19.0->tensorflow) (3.0.3)\n",
            "Requirement already satisfied: markdown-it-py>=2.2.0 in /usr/local/lib/python3.12/dist-packages (from rich->keras>=3.5.0->tensorflow) (4.0.0)\n",
            "Requirement already satisfied: pygments<3.0.0,>=2.13.0 in /usr/local/lib/python3.12/dist-packages (from rich->keras>=3.5.0->tensorflow) (2.19.2)\n",
            "Requirement already satisfied: mdurl~=0.1 in /usr/local/lib/python3.12/dist-packages (from markdown-it-py>=2.2.0->rich->keras>=3.5.0->tensorflow) (0.1.2)\n"
          ]
        }
      ],
      "source": [
        "!pip install tensorflow numpy matplotlib\n",
        "\n",
        "import numpy as np\n",
        "import tensorflow as tf\n",
        "from tensorflow.keras.models import Sequential\n",
        "from tensorflow.keras.layers import Dense\n",
        "import matplotlib.pyplot as plt\n",
        "import random\n",
        "import string\n"
      ]
    },
    {
      "cell_type": "code",
      "source": [
        "# Define alphabet\n",
        "ALPHABET = string.ascii_lowercase\n",
        "\n",
        "\n",
        "# generate a random substitution cipher key (for training)\n",
        "def generate_random_cipher():\n",
        "    key = list(ALPHABET)\n",
        "    random.shuffle(key)\n",
        "    return ''.join(key)\n",
        "\n",
        "\n",
        "\n",
        "# encrypt a message\n",
        "def encrypt_message(plaintext, key):\n",
        "    cipher_text = \"\"\n",
        "    for char in plaintext:\n",
        "        if char in ALPHABET:\n",
        "            index = ALPHABET.index(char)\n",
        "            cipher_text += key[index]\n",
        "        else:\n",
        "            cipher_text += char  # Keep non-alphabetic characters as they are\n",
        "    return cipher_text\n",
        "\n",
        "# Decrypt a message using a given cipher key\n",
        "def decrypt_message(cipher_text, key):\n",
        "    plain_text = \"\"\n",
        "    for char in cipher_text:\n",
        "        if char in ALPHABET:\n",
        "            index = key.index(char)\n",
        "            plain_text += ALPHABET[index]\n",
        "        else:\n",
        "            plain_text += char\n",
        "    return plain_text\n"
      ],
      "metadata": {
        "id": "pgGWPOgMAUse"
      },
      "execution_count": 6,
      "outputs": []
    },
    {
      "cell_type": "code",
      "source": [
        "# Generate training data for encryption and decryption\n",
        "def generate_training_data(num_samples=1000):\n",
        "    data = []\n",
        "    for _ in range(num_samples):\n",
        "        plaintext = ''.join(random.choices(ALPHABET, k=20))  # Random plaintext of length 20\n",
        "        cipher_key = generate_random_cipher()\n",
        "        cipher_text = encrypt_message(plaintext, cipher_key)\n",
        "        data.append((plaintext, cipher_text))\n",
        "    return data\n",
        "\n",
        "# Prepare the training data\n",
        "data = generate_training_data()\n",
        "plaintexts, cipher_texts = zip(*data)\n",
        "\n",
        "# Convert the characters to numerical values (0-25 for each letter in the alphabet)\n",
        "def text_to_numeric(text):\n",
        "    return [ALPHABET.index(c) for c in text]\n",
        "\n",
        "# Convert the plaintexts and cipher_texts to numeric form\n",
        "X_train = np.array([text_to_numeric(p) for p in plaintexts])\n",
        "y_train = np.array([text_to_numeric(c) for c in cipher_texts])\n"
      ],
      "metadata": {
        "id": "UkCZIFGaBkSt"
      },
      "execution_count": 7,
      "outputs": []
    },
    {
      "cell_type": "code",
      "source": [
        "import numpy as np\n",
        "import tensorflow as tf\n",
        "from tensorflow.keras.models import Sequential\n",
        "from tensorflow.keras.layers import Dense\n",
        "import random\n",
        "import string\n",
        "\n",
        "# Define the alphabet\n",
        "ALPHABET = string.ascii_lowercase\n",
        "\n",
        "# Generate a random substitution cipher key (for training)\n",
        "def generate_random_cipher():\n",
        "    key = list(ALPHABET)\n",
        "    random.shuffle(key)\n",
        "    return ''.join(key)\n",
        "\n",
        "# Encrypt a message using a given cipher key\n",
        "def encrypt_message(plaintext, key):\n",
        "    cipher_text = \"\"\n",
        "    for char in plaintext:\n",
        "        if char in ALPHABET:\n",
        "            index = ALPHABET.index(char)\n",
        "            cipher_text += key[index]\n",
        "        else:\n",
        "            cipher_text += char  # Keep non-alphabetic characters as they are\n",
        "    return cipher_text\n",
        "\n",
        "# Decrypt a message using a given cipher key\n",
        "def decrypt_message(cipher_text, key):\n",
        "    plain_text = \"\"\n",
        "    for char in cipher_text:\n",
        "        if char in ALPHABET:\n",
        "            index = key.index(char)\n",
        "            plain_text += ALPHABET[index]\n",
        "        else:\n",
        "            plain_text += char\n",
        "    return plain_text\n",
        "\n",
        "# Generate training data for encryption and decryption\n",
        "def generate_training_data(num_samples=1000):\n",
        "    data = []\n",
        "    for _ in range(num_samples):\n",
        "        plaintext = ''.join(random.choices(ALPHABET, k=20))  # Random plaintext of length 20\n",
        "        cipher_key = generate_random_cipher()\n",
        "        cipher_text = encrypt_message(plaintext, cipher_key)\n",
        "        data.append((plaintext, cipher_text))\n",
        "    return data\n",
        "\n",
        "# Prepare the training data\n",
        "data = generate_training_data()\n",
        "plaintexts, cipher_texts = zip(*data)\n",
        "\n",
        "# Convert the characters to numerical values (0-25 for each letter in the alphabet)\n",
        "def text_to_numeric(text):\n",
        "    return [ALPHABET.index(c) for c in text]\n",
        "\n",
        "# One-hot encode the target labels (ciphertext) for each character\n",
        "def one_hot_encode(text):\n",
        "    return np.array([[1 if i == ALPHABET.index(c) else 0 for i in range(26)] for c in text])\n",
        "\n",
        "# Convert plaintexts and cipher_texts to one-hot encoded form\n",
        "X_train = np.array([text_to_numeric(p) for p in plaintexts])  # same as before\n",
        "y_train = np.array([one_hot_encode(c) for c in cipher_texts])\n",
        "\n",
        "# Build the neural network model\n",
        "model = Sequential([\n",
        "    Dense(256, input_dim=20, activation='relu'),  # Input layer with 20 input neurons (one for each character in the text)\n",
        "    Dense(256, activation='relu'),\n",
        "    Dense(26, activation='softmax')  # Output layer with 26 neurons (one for each letter in the alphabet)\n",
        "])\n",
        "\n",
        "# Compile the model\n",
        "model.compile(optimizer='adam', loss='categorical_crossentropy', metrics=['accuracy'])\n",
        "\n",
        "# Train the model\n",
        "model.fit(X_train, y_train, epochs=20, batch_size=32, validation_split=0.1)\n",
        "\n",
        "# Generate a new cipher key for a given plaintext\n",
        "def generate_cipher_from_model(plaintext):\n",
        "    numeric_plaintext = np.array(text_to_numeric(plaintext)).reshape(1, -1)\n",
        "    predicted_cipher = model.predict(numeric_plaintext)\n",
        "\n",
        "    # Convert the predictions back to letters\n",
        "    cipher_key = [''] * 26\n",
        "    for i in range(26):\n",
        "        index = np.argmax(predicted_cipher[0][i])  # Get the predicted index of the letter\n",
        "        cipher_key[i] = ALPHABET[index]\n",
        "    return ''.join(cipher_key)\n",
        "\n",
        "# Test the cipher generation\n",
        "sample_plaintext = \"hello\"\n",
        "cipher_key = generate_cipher_from_model(sample_plaintext)\n",
        "encrypted_message = encrypt_message(sample_plaintext, cipher_key)\n",
        "decrypted_message = decrypt_message(encrypted_message, cipher_key)\n",
        "\n",
        "print(f\"Plaintext: {sample_plaintext}\")\n",
        "print(f\"Cipher Key: {cipher_key}\")\n",
        "print(f\"Encrypted: {encrypted_message}\")\n",
        "print(f\"Decrypted: {decrypted_message}\")\n"
      ],
      "metadata": {
        "colab": {
          "base_uri": "https://localhost:8080/",
          "height": 373
        },
        "id": "RaFpf_y7Bno4",
        "outputId": "b99a181c-2fb0-416f-f4f0-1767022a7c03"
      },
      "execution_count": 9,
      "outputs": [
        {
          "output_type": "stream",
          "name": "stdout",
          "text": [
            "Epoch 1/20\n"
          ]
        },
        {
          "output_type": "error",
          "ename": "ValueError",
          "evalue": "Arguments `target` and `output` must have the same rank (ndim). Received: target.shape=(None, 20, 26), output.shape=(None, 26)",
          "traceback": [
            "\u001b[0;31m---------------------------------------------------------------------------\u001b[0m",
            "\u001b[0;31mValueError\u001b[0m                                Traceback (most recent call last)",
            "\u001b[0;32m/tmp/ipython-input-711926681.py\u001b[0m in \u001b[0;36m<cell line: 0>\u001b[0;34m()\u001b[0m\n\u001b[1;32m     74\u001b[0m \u001b[0;34m\u001b[0m\u001b[0m\n\u001b[1;32m     75\u001b[0m \u001b[0;31m# Train the model\u001b[0m\u001b[0;34m\u001b[0m\u001b[0;34m\u001b[0m\u001b[0m\n\u001b[0;32m---> 76\u001b[0;31m \u001b[0mmodel\u001b[0m\u001b[0;34m.\u001b[0m\u001b[0mfit\u001b[0m\u001b[0;34m(\u001b[0m\u001b[0mX_train\u001b[0m\u001b[0;34m,\u001b[0m \u001b[0my_train\u001b[0m\u001b[0;34m,\u001b[0m \u001b[0mepochs\u001b[0m\u001b[0;34m=\u001b[0m\u001b[0;36m20\u001b[0m\u001b[0;34m,\u001b[0m \u001b[0mbatch_size\u001b[0m\u001b[0;34m=\u001b[0m\u001b[0;36m32\u001b[0m\u001b[0;34m,\u001b[0m \u001b[0mvalidation_split\u001b[0m\u001b[0;34m=\u001b[0m\u001b[0;36m0.1\u001b[0m\u001b[0;34m)\u001b[0m\u001b[0;34m\u001b[0m\u001b[0;34m\u001b[0m\u001b[0m\n\u001b[0m\u001b[1;32m     77\u001b[0m \u001b[0;34m\u001b[0m\u001b[0m\n\u001b[1;32m     78\u001b[0m \u001b[0;31m# Generate a new cipher key for a given plaintext\u001b[0m\u001b[0;34m\u001b[0m\u001b[0;34m\u001b[0m\u001b[0m\n",
            "\u001b[0;32m/usr/local/lib/python3.12/dist-packages/keras/src/utils/traceback_utils.py\u001b[0m in \u001b[0;36merror_handler\u001b[0;34m(*args, **kwargs)\u001b[0m\n\u001b[1;32m    120\u001b[0m             \u001b[0;31m# To get the full stack trace, call:\u001b[0m\u001b[0;34m\u001b[0m\u001b[0;34m\u001b[0m\u001b[0m\n\u001b[1;32m    121\u001b[0m             \u001b[0;31m# `keras.config.disable_traceback_filtering()`\u001b[0m\u001b[0;34m\u001b[0m\u001b[0;34m\u001b[0m\u001b[0m\n\u001b[0;32m--> 122\u001b[0;31m             \u001b[0;32mraise\u001b[0m \u001b[0me\u001b[0m\u001b[0;34m.\u001b[0m\u001b[0mwith_traceback\u001b[0m\u001b[0;34m(\u001b[0m\u001b[0mfiltered_tb\u001b[0m\u001b[0;34m)\u001b[0m \u001b[0;32mfrom\u001b[0m \u001b[0;32mNone\u001b[0m\u001b[0;34m\u001b[0m\u001b[0;34m\u001b[0m\u001b[0m\n\u001b[0m\u001b[1;32m    123\u001b[0m         \u001b[0;32mfinally\u001b[0m\u001b[0;34m:\u001b[0m\u001b[0;34m\u001b[0m\u001b[0;34m\u001b[0m\u001b[0m\n\u001b[1;32m    124\u001b[0m             \u001b[0;32mdel\u001b[0m \u001b[0mfiltered_tb\u001b[0m\u001b[0;34m\u001b[0m\u001b[0;34m\u001b[0m\u001b[0m\n",
            "\u001b[0;32m/usr/local/lib/python3.12/dist-packages/keras/src/backend/tensorflow/nn.py\u001b[0m in \u001b[0;36mcategorical_crossentropy\u001b[0;34m(target, output, from_logits, axis)\u001b[0m\n\u001b[1;32m    660\u001b[0m         )\n\u001b[1;32m    661\u001b[0m     \u001b[0;32mif\u001b[0m \u001b[0mlen\u001b[0m\u001b[0;34m(\u001b[0m\u001b[0mtarget\u001b[0m\u001b[0;34m.\u001b[0m\u001b[0mshape\u001b[0m\u001b[0;34m)\u001b[0m \u001b[0;34m!=\u001b[0m \u001b[0mlen\u001b[0m\u001b[0;34m(\u001b[0m\u001b[0moutput\u001b[0m\u001b[0;34m.\u001b[0m\u001b[0mshape\u001b[0m\u001b[0;34m)\u001b[0m\u001b[0;34m:\u001b[0m\u001b[0;34m\u001b[0m\u001b[0;34m\u001b[0m\u001b[0m\n\u001b[0;32m--> 662\u001b[0;31m         raise ValueError(\n\u001b[0m\u001b[1;32m    663\u001b[0m             \u001b[0;34m\"Arguments `target` and `output` must have the same rank \"\u001b[0m\u001b[0;34m\u001b[0m\u001b[0;34m\u001b[0m\u001b[0m\n\u001b[1;32m    664\u001b[0m             \u001b[0;34m\"(ndim). Received: \"\u001b[0m\u001b[0;34m\u001b[0m\u001b[0;34m\u001b[0m\u001b[0m\n",
            "\u001b[0;31mValueError\u001b[0m: Arguments `target` and `output` must have the same rank (ndim). Received: target.shape=(None, 20, 26), output.shape=(None, 26)"
          ]
        }
      ]
    },
    {
      "cell_type": "code",
      "source": [
        "# Generate a new cipher key for a given plaintext\n",
        "def generate_cipher_from_model(plaintext):\n",
        "    numeric_plaintext = np.array(text_to_numeric(plaintext)).reshape(1, -1)\n",
        "    predicted_cipher = model.predict(numeric_plaintext)\n",
        "\n",
        "    # Convert the predictions back to letters\n",
        "    cipher_key = [''] * 26\n",
        "    for i in range(26):\n",
        "        index = np.argmax(predicted_cipher[0][i])  # Get the predicted index of the letter\n",
        "        cipher_key[i] = ALPHABET[index]\n",
        "    return ''.join(cipher_key)\n",
        "\n",
        "# Test the cipher generation\n",
        "sample_plaintext = \"hello\"\n",
        "cipher_key = generate_cipher_from_model(sample_plaintext)\n",
        "encrypted_message = encrypt_message(sample_plaintext, cipher_key)\n",
        "decrypted_message = decrypt_message(encrypted_message, cipher_key)\n",
        "\n",
        "print(f\"Plaintext: {sample_plaintext}\")\n",
        "print(f\"Cipher Key: {cipher_key}\")\n",
        "print(f\"Encrypted: {encrypted_message}\")\n",
        "print(f\"Decrypted: {decrypted_message}\")\n"
      ],
      "metadata": {
        "id": "cWX6LWNqIBEe"
      },
      "execution_count": null,
      "outputs": []
    },
    {
      "cell_type": "code",
      "source": [
        "# Evaluate the model's performance on the validation set\n",
        "loss, accuracy = model.evaluate(X_train, y_train)\n",
        "print(f\"Model accuracy: {accuracy * 100:.2f}%\")\n"
      ],
      "metadata": {
        "id": "px78t2DcICbs"
      },
      "execution_count": null,
      "outputs": []
    },
    {
      "cell_type": "code",
      "source": [
        "# Visualize training loss\n",
        "history = model.history\n",
        "plt.plot(history.history['loss'])\n",
        "plt.plot(history.history['val_loss'])\n",
        "plt.title('Model Loss')\n",
        "plt.xlabel('Epochs')\n",
        "plt.ylabel('Loss')\n",
        "plt.legend(['Training Loss', 'Validation Loss'], loc='upper right')\n",
        "plt.show()\n"
      ],
      "metadata": {
        "id": "MOc7PGsVIG-j"
      },
      "execution_count": null,
      "outputs": []
    },
    {
      "cell_type": "code",
      "source": [],
      "metadata": {
        "id": "wcq4AjdKILe1"
      },
      "execution_count": null,
      "outputs": []
    }
  ]
}